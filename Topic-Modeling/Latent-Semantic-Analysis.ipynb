{
 "cells": [
  {
   "cell_type": "code",
   "execution_count": 46,
   "metadata": {},
   "outputs": [
    {
     "data": {
      "text/html": [
       "<div>\n",
       "<style scoped>\n",
       "    .dataframe tbody tr th:only-of-type {\n",
       "        vertical-align: middle;\n",
       "    }\n",
       "\n",
       "    .dataframe tbody tr th {\n",
       "        vertical-align: top;\n",
       "    }\n",
       "\n",
       "    .dataframe thead th {\n",
       "        text-align: right;\n",
       "    }\n",
       "</style>\n",
       "<table border=\"1\" class=\"dataframe\">\n",
       "  <thead>\n",
       "    <tr style=\"text-align: right;\">\n",
       "      <th></th>\n",
       "      <th>Article</th>\n",
       "    </tr>\n",
       "  </thead>\n",
       "  <tbody>\n",
       "    <tr>\n",
       "      <td>0</td>\n",
       "      <td>In the Washington of 2016, even when the polic...</td>\n",
       "    </tr>\n",
       "    <tr>\n",
       "      <td>1</td>\n",
       "      <td>Donald Trump has used Twitter  —   his prefe...</td>\n",
       "    </tr>\n",
       "    <tr>\n",
       "      <td>2</td>\n",
       "      <td>Donald Trump is unabashedly praising Russian...</td>\n",
       "    </tr>\n",
       "    <tr>\n",
       "      <td>3</td>\n",
       "      <td>Updated at 2:50 p. m. ET, Russian President Vl...</td>\n",
       "    </tr>\n",
       "    <tr>\n",
       "      <td>4</td>\n",
       "      <td>From photography, illustration and video, to d...</td>\n",
       "    </tr>\n",
       "  </tbody>\n",
       "</table>\n",
       "</div>"
      ],
      "text/plain": [
       "                                             Article\n",
       "0  In the Washington of 2016, even when the polic...\n",
       "1    Donald Trump has used Twitter  —   his prefe...\n",
       "2    Donald Trump is unabashedly praising Russian...\n",
       "3  Updated at 2:50 p. m. ET, Russian President Vl...\n",
       "4  From photography, illustration and video, to d..."
      ]
     },
     "execution_count": 46,
     "metadata": {},
     "output_type": "execute_result"
    }
   ],
   "source": [
    "import pandas as pd\n",
    "npr_articles = pd.read_csv('national-public-radio.csv')\n",
    "npr_articles.head()"
   ]
  },
  {
   "cell_type": "code",
   "execution_count": 47,
   "metadata": {},
   "outputs": [
    {
     "data": {
      "text/plain": [
       "<11992x54777 sparse matrix of type '<class 'numpy.float64'>'\n",
       "\twith 3033388 stored elements in Compressed Sparse Row format>"
      ]
     },
     "execution_count": 47,
     "metadata": {},
     "output_type": "execute_result"
    }
   ],
   "source": [
    "from sklearn.feature_extraction.text import TfidfVectorizer\n",
    "tfidf = TfidfVectorizer(max_df=0.95, min_df=2, stop_words='english')\n",
    "document_term_matrix = tfidf.fit_transform(npr_articles['Article'])\n",
    "document_term_matrix"
   ]
  },
  {
   "cell_type": "code",
   "execution_count": 48,
   "metadata": {},
   "outputs": [
    {
     "name": "stdout",
     "output_type": "stream",
     "text": [
      "54777\n",
      "kolko\n",
      "restricts\n",
      "parts\n",
      "improvised\n",
      "luhrmann\n",
      "skewed\n",
      "chiu\n",
      "attractive\n",
      "develop\n",
      "scar\n"
     ]
    }
   ],
   "source": [
    "print(len(tfidf.get_feature_names()))\n",
    "import random\n",
    "for i in range(10):\n",
    "    random_word_id = random.randint(0,54776)\n",
    "    print(tfidf.get_feature_names()[random_word_id])"
   ]
  },
  {
   "cell_type": "code",
   "execution_count": 49,
   "metadata": {},
   "outputs": [
    {
     "data": {
      "text/plain": [
       "TruncatedSVD(algorithm='randomized', n_components=7, n_iter=100,\n",
       "             random_state=122, tol=0.0)"
      ]
     },
     "execution_count": 49,
     "metadata": {},
     "output_type": "execute_result"
    }
   ],
   "source": [
    "from sklearn.decomposition import TruncatedSVD\n",
    "svd_model = TruncatedSVD(n_components=7, algorithm='randomized', n_iter=100, random_state=122)\n",
    "svd_model.fit(document_term_matrix)"
   ]
  },
  {
   "cell_type": "markdown",
   "metadata": {},
   "source": [
    "<h3>Top Words Per Topic</h3>"
   ]
  },
  {
   "cell_type": "code",
   "execution_count": 50,
   "metadata": {},
   "outputs": [
    {
     "data": {
      "text/plain": [
       "7"
      ]
     },
     "execution_count": 50,
     "metadata": {},
     "output_type": "execute_result"
    }
   ],
   "source": [
    "len(svd_model.components_)"
   ]
  },
  {
   "cell_type": "code",
   "execution_count": 51,
   "metadata": {},
   "outputs": [
    {
     "data": {
      "text/plain": [
       "array([[ 1.55900729e-03,  4.21839655e-02,  8.05207864e-05, ...,\n",
       "         1.62269473e-04,  6.70255273e-05,  3.75122661e-05],\n",
       "       [-1.07760156e-03, -2.86484973e-02, -1.55163733e-04, ...,\n",
       "        -3.02197147e-04, -1.19388897e-04, -6.62555764e-05],\n",
       "       [-1.28152898e-03,  4.33947840e-02, -3.89983617e-04, ...,\n",
       "        -2.22494805e-04, -1.33187324e-04, -2.09939357e-04],\n",
       "       ...,\n",
       "       [ 7.99286368e-04,  1.81944822e-02, -2.67380312e-04, ...,\n",
       "        -1.57625594e-04, -8.96626887e-05, -7.72754944e-05],\n",
       "       [-7.55381962e-04,  3.72929928e-02, -7.12300961e-04, ...,\n",
       "         1.21127103e-04, -2.57524925e-06, -3.18123685e-04],\n",
       "       [ 2.24854776e-04,  3.60945327e-03, -3.53097321e-04, ...,\n",
       "        -9.26260189e-05, -2.33065771e-06, -1.52896991e-04]])"
      ]
     },
     "execution_count": 51,
     "metadata": {},
     "output_type": "execute_result"
    }
   ],
   "source": [
    "svd_model.components_"
   ]
  },
  {
   "cell_type": "code",
   "execution_count": 52,
   "metadata": {},
   "outputs": [
    {
     "data": {
      "text/plain": [
       "54777"
      ]
     },
     "execution_count": 52,
     "metadata": {},
     "output_type": "execute_result"
    }
   ],
   "source": [
    "len(svd_model.components_[0])"
   ]
  },
  {
   "cell_type": "code",
   "execution_count": 53,
   "metadata": {},
   "outputs": [
    {
     "name": "stdout",
     "output_type": "stream",
     "text": [
      "[10088 17188  5876 ... 42561 42993 50426]\n",
      "0.00019185342627741267\n",
      "0.20840703057955665\n",
      "[22673 33390 26752 28659 38079  9767 36283 42561 42993 50426]\n"
     ]
    }
   ],
   "source": [
    "single_topic = svd_model.components_[0]\n",
    "# Returns the indices that would sort this array.\n",
    "print(single_topic.argsort())\n",
    "# Word least representative of this topic\n",
    "print(single_topic[18302])\n",
    "# Word most representative of this topic\n",
    "print(single_topic[42993])\n",
    "# Top 10 words for this topic:\n",
    "print(single_topic.argsort()[-10:])"
   ]
  },
  {
   "cell_type": "code",
   "execution_count": 54,
   "metadata": {},
   "outputs": [
    {
     "name": "stdout",
     "output_type": "stream",
     "text": [
      "health\n",
      "new\n",
      "just\n",
      "like\n",
      "president\n",
      "clinton\n",
      "people\n",
      "said\n",
      "says\n",
      "trump\n"
     ]
    }
   ],
   "source": [
    "top_word_indices = single_topic.argsort()[-10:]\n",
    "for index in top_word_indices:\n",
    "    print(tfidf.get_feature_names()[index])"
   ]
  },
  {
   "cell_type": "code",
   "execution_count": 55,
   "metadata": {},
   "outputs": [
    {
     "name": "stdout",
     "output_type": "stream",
     "text": [
      "The Top 15 Words for Topic #0 :\n",
      "['women', 'house', 'think', 'campaign', 'state', 'health', 'new', 'just', 'like', 'president', 'clinton', 'people', 'said', 'says', 'trump']\n",
      "\n",
      "\n",
      "The Top 15 Words for Topic #1 :\n",
      "['comey', 'democrats', 'republicans', 'hillary', 'voters', 'election', 'obama', 'said', 'donald', 'sanders', 'republican', 'president', 'campaign', 'clinton', 'trump']\n",
      "\n",
      "\n",
      "The Top 15 Words for Topic #2 :\n",
      "['act', 'zika', 'percent', 'plan', 'affordable', 'patients', 'tax', 'obamacare', 'federal', 'law', 'coverage', 'medicaid', 'insurance', 'care', 'health']\n",
      "\n",
      "\n",
      "The Top 15 Words for Topic #3 :\n",
      "['gop', 'vote', 'republican', 'republicans', 'cruz', 'democratic', 'hillary', 'delegates', 'insurance', 'percent', 'voters', 'care', 'health', 'sanders', 'clinton']\n",
      "\n",
      "\n",
      "The Top 15 Words for Topic #4 :\n",
      "['department', 'vote', 'attack', 'fbi', 'reports', 'hillary', 'officers', 'voters', 'democratic', 'court', 'said', 'state', 'police', 'sanders', 'clinton']\n",
      "\n",
      "\n",
      "The Top 15 Words for Topic #5 :\n",
      "['sanders', 'countries', 'percent', 'water', 'women', 'study', 'food', 'disease', 'students', 'china', 'clinton', 'virus', 'trump', 'zika', 'says']\n",
      "\n",
      "\n",
      "The Top 15 Words for Topic #6 :\n",
      "['law', 'parents', 'supreme', 'state', 'federal', 'kids', 'devos', 'college', 'teachers', 'student', 'court', 'education', 'schools', 'school', 'students']\n",
      "\n",
      "\n"
     ]
    }
   ],
   "source": [
    "topic_map={}\n",
    "for index,topic in enumerate(svd_model.components_):\n",
    "    print(f'The Top 15 Words for Topic #{index} :')\n",
    "    topic_map[index]=[tfidf.get_feature_names()[i] for i in topic.argsort()[-15:]]\n",
    "    print(topic_map[index])\n",
    "    print('\\n')"
   ]
  },
  {
   "cell_type": "markdown",
   "metadata": {},
   "source": [
    "<h3>Attaching Topic Labels to News Articles</h3>"
   ]
  },
  {
   "cell_type": "code",
   "execution_count": 56,
   "metadata": {},
   "outputs": [
    {
     "data": {
      "text/plain": [
       "(11992, 54777)"
      ]
     },
     "execution_count": 56,
     "metadata": {},
     "output_type": "execute_result"
    }
   ],
   "source": [
    "document_term_matrix.shape"
   ]
  },
  {
   "cell_type": "code",
   "execution_count": 57,
   "metadata": {},
   "outputs": [
    {
     "data": {
      "text/plain": [
       "11992"
      ]
     },
     "execution_count": 57,
     "metadata": {},
     "output_type": "execute_result"
    }
   ],
   "source": [
    "len(npr_articles)"
   ]
  },
  {
   "cell_type": "code",
   "execution_count": 58,
   "metadata": {},
   "outputs": [
    {
     "name": "stdout",
     "output_type": "stream",
     "text": [
      "Topic Model Result Dimentions : (11992, 7)\n",
      "Topic Model Result for 1st Article : [ 0.34319845  0.29033854  0.00449203 -0.1665609  -0.06057904  0.00305527\n",
      " -0.06938709]\n",
      "Rounded Topic Model Result for 1st Article : [ 0.34  0.29  0.   -0.17 -0.06  0.   -0.07]\n"
     ]
    },
    {
     "data": {
      "text/plain": [
       "0"
      ]
     },
     "execution_count": 58,
     "metadata": {},
     "output_type": "execute_result"
    }
   ],
   "source": [
    "topic_model_results = svd_model.transform(document_term_matrix)\n",
    "print(\"Topic Model Result Dimentions :\",topic_model_results.shape)\n",
    "print(\"Topic Model Result for 1st Article :\",topic_model_results[0])\n",
    "print(\"Rounded Topic Model Result for 1st Article :\",topic_model_results[0].round(2))\n",
    "topic_model_results[0].argmax()"
   ]
  },
  {
   "cell_type": "markdown",
   "metadata": {},
   "source": [
    "<p>This means that our model thinks that the first article belongs to topic #0.</p>"
   ]
  },
  {
   "cell_type": "markdown",
   "metadata": {},
   "source": [
    "<h3>Combining with Original Data</h3>"
   ]
  },
  {
   "cell_type": "code",
   "execution_count": 59,
   "metadata": {},
   "outputs": [
    {
     "data": {
      "text/plain": [
       "array([0, 0, 1, ..., 0, 0, 0])"
      ]
     },
     "execution_count": 59,
     "metadata": {},
     "output_type": "execute_result"
    }
   ],
   "source": [
    "topic_model_results.argmax(axis=1)"
   ]
  },
  {
   "cell_type": "code",
   "execution_count": 60,
   "metadata": {},
   "outputs": [
    {
     "data": {
      "text/html": [
       "<div>\n",
       "<style scoped>\n",
       "    .dataframe tbody tr th:only-of-type {\n",
       "        vertical-align: middle;\n",
       "    }\n",
       "\n",
       "    .dataframe tbody tr th {\n",
       "        vertical-align: top;\n",
       "    }\n",
       "\n",
       "    .dataframe thead th {\n",
       "        text-align: right;\n",
       "    }\n",
       "</style>\n",
       "<table border=\"1\" class=\"dataframe\">\n",
       "  <thead>\n",
       "    <tr style=\"text-align: right;\">\n",
       "      <th></th>\n",
       "      <th>Article</th>\n",
       "      <th>Topic</th>\n",
       "      <th>Words For Topic</th>\n",
       "    </tr>\n",
       "  </thead>\n",
       "  <tbody>\n",
       "    <tr>\n",
       "      <td>0</td>\n",
       "      <td>In the Washington of 2016, even when the polic...</td>\n",
       "      <td>0</td>\n",
       "      <td>[women, house, think, campaign, state, health,...</td>\n",
       "    </tr>\n",
       "    <tr>\n",
       "      <td>1</td>\n",
       "      <td>Donald Trump has used Twitter  —   his prefe...</td>\n",
       "      <td>0</td>\n",
       "      <td>[women, house, think, campaign, state, health,...</td>\n",
       "    </tr>\n",
       "    <tr>\n",
       "      <td>2</td>\n",
       "      <td>Donald Trump is unabashedly praising Russian...</td>\n",
       "      <td>1</td>\n",
       "      <td>[comey, democrats, republicans, hillary, voter...</td>\n",
       "    </tr>\n",
       "    <tr>\n",
       "      <td>3</td>\n",
       "      <td>Updated at 2:50 p. m. ET, Russian President Vl...</td>\n",
       "      <td>0</td>\n",
       "      <td>[women, house, think, campaign, state, health,...</td>\n",
       "    </tr>\n",
       "    <tr>\n",
       "      <td>4</td>\n",
       "      <td>From photography, illustration and video, to d...</td>\n",
       "      <td>0</td>\n",
       "      <td>[women, house, think, campaign, state, health,...</td>\n",
       "    </tr>\n",
       "    <tr>\n",
       "      <td>5</td>\n",
       "      <td>I did not want to join yoga class. I hated tho...</td>\n",
       "      <td>0</td>\n",
       "      <td>[women, house, think, campaign, state, health,...</td>\n",
       "    </tr>\n",
       "    <tr>\n",
       "      <td>6</td>\n",
       "      <td>With a   who has publicly supported the debunk...</td>\n",
       "      <td>0</td>\n",
       "      <td>[women, house, think, campaign, state, health,...</td>\n",
       "    </tr>\n",
       "    <tr>\n",
       "      <td>7</td>\n",
       "      <td>I was standing by the airport exit, debating w...</td>\n",
       "      <td>0</td>\n",
       "      <td>[women, house, think, campaign, state, health,...</td>\n",
       "    </tr>\n",
       "    <tr>\n",
       "      <td>8</td>\n",
       "      <td>If movies were trying to be more realistic, pe...</td>\n",
       "      <td>0</td>\n",
       "      <td>[women, house, think, campaign, state, health,...</td>\n",
       "    </tr>\n",
       "    <tr>\n",
       "      <td>9</td>\n",
       "      <td>Eighteen years ago, on New Year’s Eve, David F...</td>\n",
       "      <td>0</td>\n",
       "      <td>[women, house, think, campaign, state, health,...</td>\n",
       "    </tr>\n",
       "  </tbody>\n",
       "</table>\n",
       "</div>"
      ],
      "text/plain": [
       "                                             Article  Topic  \\\n",
       "0  In the Washington of 2016, even when the polic...      0   \n",
       "1    Donald Trump has used Twitter  —   his prefe...      0   \n",
       "2    Donald Trump is unabashedly praising Russian...      1   \n",
       "3  Updated at 2:50 p. m. ET, Russian President Vl...      0   \n",
       "4  From photography, illustration and video, to d...      0   \n",
       "5  I did not want to join yoga class. I hated tho...      0   \n",
       "6  With a   who has publicly supported the debunk...      0   \n",
       "7  I was standing by the airport exit, debating w...      0   \n",
       "8  If movies were trying to be more realistic, pe...      0   \n",
       "9  Eighteen years ago, on New Year’s Eve, David F...      0   \n",
       "\n",
       "                                     Words For Topic  \n",
       "0  [women, house, think, campaign, state, health,...  \n",
       "1  [women, house, think, campaign, state, health,...  \n",
       "2  [comey, democrats, republicans, hillary, voter...  \n",
       "3  [women, house, think, campaign, state, health,...  \n",
       "4  [women, house, think, campaign, state, health,...  \n",
       "5  [women, house, think, campaign, state, health,...  \n",
       "6  [women, house, think, campaign, state, health,...  \n",
       "7  [women, house, think, campaign, state, health,...  \n",
       "8  [women, house, think, campaign, state, health,...  \n",
       "9  [women, house, think, campaign, state, health,...  "
      ]
     },
     "execution_count": 60,
     "metadata": {},
     "output_type": "execute_result"
    }
   ],
   "source": [
    "npr_articles['Topic'] = topic_model_results.argmax(axis=1)\n",
    "npr_articles['Words For Topic'] = npr_articles.apply(lambda row: topic_map[row.Topic], axis = 1)\n",
    "npr_articles.head(10)"
   ]
  }
 ],
 "metadata": {
  "kernelspec": {
   "display_name": "Python 3",
   "language": "python",
   "name": "python3"
  },
  "language_info": {
   "codemirror_mode": {
    "name": "ipython",
    "version": 3
   },
   "file_extension": ".py",
   "mimetype": "text/x-python",
   "name": "python",
   "nbconvert_exporter": "python",
   "pygments_lexer": "ipython3",
   "version": "3.7.4"
  }
 },
 "nbformat": 4,
 "nbformat_minor": 2
}
